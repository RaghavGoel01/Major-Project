{
 "cells": [
  {
   "cell_type": "code",
   "execution_count": 1,
   "id": "8a280c1d",
   "metadata": {
    "_cell_guid": "b1076dfc-b9ad-4769-8c92-a6c4dae69d19",
    "_uuid": "8f2839f25d086af736a60e9eeb907d3b93b6e0e5",
    "execution": {
     "iopub.execute_input": "2024-10-12T10:51:49.271034Z",
     "iopub.status.busy": "2024-10-12T10:51:49.270444Z",
     "iopub.status.idle": "2024-10-12T10:52:02.810171Z",
     "shell.execute_reply": "2024-10-12T10:52:02.809370Z"
    },
    "papermill": {
     "duration": 13.552263,
     "end_time": "2024-10-12T10:52:02.812373",
     "exception": false,
     "start_time": "2024-10-12T10:51:49.260110",
     "status": "completed"
    },
    "tags": []
   },
   "outputs": [],
   "source": [
    "import os\n",
    "import matplotlib.pyplot as plt\n",
    "import matplotlib.cm as cm\n",
    "import numpy as np\n",
    "import seaborn as sns\n",
    "import tensorflow as tf\n",
    "from sklearn.utils.class_weight import compute_class_weight\n",
    "import timeit\n",
    "from sklearn.metrics import (accuracy_score, balanced_accuracy_score, classification_report, confusion_matrix)\n",
    "import cv2\n",
    "import shutil\n",
    "from sklearn.model_selection import train_test_split"
   ]
  },
  {
   "cell_type": "code",
   "execution_count": 2,
   "id": "a6b6ac0b",
   "metadata": {
    "execution": {
     "iopub.execute_input": "2024-10-12T10:52:02.832199Z",
     "iopub.status.busy": "2024-10-12T10:52:02.831671Z",
     "iopub.status.idle": "2024-10-12T10:52:03.508193Z",
     "shell.execute_reply": "2024-10-12T10:52:03.506986Z"
    },
    "papermill": {
     "duration": 0.687367,
     "end_time": "2024-10-12T10:52:03.509759",
     "exception": true,
     "start_time": "2024-10-12T10:52:02.822392",
     "status": "failed"
    },
    "tags": []
   },
   "outputs": [
    {
     "ename": "FileNotFoundError",
     "evalue": "[Errno 2] No such file or directory: '/kaggle/input/lung-cancer-combined-dataset/Lung Cancer Combined Dataset'",
     "output_type": "error",
     "traceback": [
      "\u001b[0;31m---------------------------------------------------------------------------\u001b[0m",
      "\u001b[0;31mFileNotFoundError\u001b[0m                         Traceback (most recent call last)",
      "Cell \u001b[0;32mIn[2], line 1\u001b[0m\n\u001b[0;32m----> 1\u001b[0m \u001b[43mos\u001b[49m\u001b[38;5;241;43m.\u001b[39;49m\u001b[43mlistdir\u001b[49m\u001b[43m(\u001b[49m\u001b[38;5;124;43m'\u001b[39;49m\u001b[38;5;124;43m/kaggle/input/lung-cancer-combined-dataset/Lung Cancer Combined Dataset\u001b[39;49m\u001b[38;5;124;43m'\u001b[39;49m\u001b[43m)\u001b[49m\n",
      "\u001b[0;31mFileNotFoundError\u001b[0m: [Errno 2] No such file or directory: '/kaggle/input/lung-cancer-combined-dataset/Lung Cancer Combined Dataset'"
     ]
    }
   ],
   "source": [
    "os.listdir('/kaggle/input/lung-cancer-combined-dataset/Lung Cancer Combined Dataset')"
   ]
  },
  {
   "cell_type": "code",
   "execution_count": null,
   "id": "ded2d535",
   "metadata": {
    "papermill": {
     "duration": null,
     "end_time": null,
     "exception": null,
     "start_time": null,
     "status": "pending"
    },
    "tags": []
   },
   "outputs": [],
   "source": [
    "def get_classes(data_path, classes, data):\n",
    "    print(f\"----{data}----\")\n",
    "    images={}\n",
    "    count=0\n",
    "\n",
    "    for i in range(len(classes)):\n",
    "        x=\"\"\n",
    "        if i==0:\n",
    "          x=\"Lung Cancer\"\n",
    "        elif i==1:\n",
    "          x=\"Normal\"\n",
    "        imgs=os.listdir(os.path.join(data_path, x))\n",
    "        images[i]=imgs\n",
    "        count+=len(imgs)\n",
    "\n",
    "    for k, v in images.items():\n",
    "        print(\n",
    "            f\"Grade {k}-{classes[k]}: {len(v)} images, {round((len(v)*100)/count, 2)}%\"\n",
    "        )\n",
    "\n",
    "    return images\n",
    "\n",
    "def plot_classes(dict_classes, data_path, classes, data):\n",
    "    for k, v in dict_classes.items():\n",
    "        print(f\"{data}-{classes[k]}\")\n",
    "        plt.figure(figsize=(10, 25))\n",
    "        x=\"\"\n",
    "        if k==0:\n",
    "          x=\"Lung Cancer\"\n",
    "        elif k==1:\n",
    "          x=\"Normal\"\n",
    "        for i in range(5):\n",
    "            img_path=os.path.join(data_path, x, v[i])\n",
    "            img=tf.keras.preprocessing.image.load_img(img_path)\n",
    "            plt.subplot(1, 5, 1+i, xticks=[], yticks=[])\n",
    "            plt.imshow(img)\n",
    "            plt.title(f\"{x}\")\n",
    "        plt.show()"
   ]
  },
  {
   "cell_type": "code",
   "execution_count": null,
   "id": "242e26fa",
   "metadata": {
    "papermill": {
     "duration": null,
     "end_time": null,
     "exception": null,
     "start_time": null,
     "status": "pending"
    },
    "tags": []
   },
   "outputs": [],
   "source": [
    "class_names=['Lung Cancer', 'Normal']"
   ]
  },
  {
   "cell_type": "code",
   "execution_count": null,
   "id": "55a3dc41",
   "metadata": {
    "papermill": {
     "duration": null,
     "end_time": null,
     "exception": null,
     "start_time": null,
     "status": "pending"
    },
    "tags": []
   },
   "outputs": [],
   "source": [
    "base_dir=\"/kaggle/input/lung-cancer-combined-dataset/Lung Cancer Combined Dataset\"working_data_path = '/kaggle/working/dataset'"
   ]
  },
  {
   "cell_type": "code",
   "execution_count": null,
   "id": "6cf9478d",
   "metadata": {
    "papermill": {
     "duration": null,
     "end_time": null,
     "exception": null,
     "start_time": null,
     "status": "pending"
    },
    "tags": []
   },
   "outputs": [],
   "source": [
    "working_data_path = '/kaggle/working/dataset'"
   ]
  },
  {
   "cell_type": "code",
   "execution_count": null,
   "id": "0ac4e6c9",
   "metadata": {
    "papermill": {
     "duration": null,
     "end_time": null,
     "exception": null,
     "start_time": null,
     "status": "pending"
    },
    "tags": []
   },
   "outputs": [],
   "source": [
    "# Copy the dataset to a writable directory\n",
    "if not os.path.exists(working_data_path):\n",
    "    shutil.copytree(base_dir, working_data_path)"
   ]
  },
  {
   "cell_type": "code",
   "execution_count": null,
   "id": "c272e54a",
   "metadata": {
    "papermill": {
     "duration": null,
     "end_time": null,
     "exception": null,
     "start_time": null,
     "status": "pending"
    },
    "tags": []
   },
   "outputs": [],
   "source": [
    "train_split = '/kaggle/working/dataset/train_split'  # New train data path (70%)\n",
    "valid_split = '/kaggle/working/dataset/valid_split'  # New validation data path (10%)\n",
    "test_split = '/kaggle/working/dataset/test_split'  # New test data path (20%)"
   ]
  },
  {
   "cell_type": "code",
   "execution_count": null,
   "id": "ba546314",
   "metadata": {
    "papermill": {
     "duration": null,
     "end_time": null,
     "exception": null,
     "start_time": null,
     "status": "pending"
    },
    "tags": []
   },
   "outputs": [],
   "source": [
    "# Create directories if they don't exist\n",
    "os.makedirs(train_split, exist_ok=True)\n",
    "os.makedirs(valid_split, exist_ok=True)\n",
    "os.makedirs(test_split, exist_ok=True)\n",
    "\n",
    "categories = os.listdir(base_dir)"
   ]
  },
  {
   "cell_type": "code",
   "execution_count": null,
   "id": "a531a66d",
   "metadata": {
    "papermill": {
     "duration": null,
     "end_time": null,
     "exception": null,
     "start_time": null,
     "status": "pending"
    },
    "tags": []
   },
   "outputs": [],
   "source": [
    "# Split and copy data\n",
    "for category in categories:\n",
    "    category_path = os.path.join(base_dir, category)\n",
    "    images = os.listdir(category_path)\n",
    "    \n",
    "    # Split the images into 70% train and 30% remaining (for test and validation)\n",
    "    train_images, remaining_images = train_test_split(images, test_size=0.3, random_state=42)\n",
    "    \n",
    "    # Split remaining images into 2/3 test (20%) and 1/3 validation (10%)\n",
    "    test_images, valid_images = train_test_split(remaining_images, test_size=1/3, random_state=42)\n",
    "    \n",
    "    # Create category subdirectories in the new train and valid directories\n",
    "    train_category_path = os.path.join(train_split, category)\n",
    "    test_category_path = os.path.join(test_split, category)\n",
    "    valid_category_path = os.path.join(valid_split, category)\n",
    "    os.makedirs(train_category_path, exist_ok=True)\n",
    "    os.makedirs(test_category_path, exist_ok=True)\n",
    "    os.makedirs(valid_category_path, exist_ok=True)\n",
    "    \n",
    "    # Copy images to the respective folders\n",
    "    for img in train_images:\n",
    "        shutil.copy(os.path.join(category_path, img), os.path.join(train_category_path, img))\n",
    "    for img in test_images:\n",
    "        shutil.copy(os.path.join(category_path, img), os.path.join(test_category_path, img))\n",
    "    for img in valid_images:\n",
    "        shutil.copy(os.path.join(category_path, img), os.path.join(valid_category_path, img))\n",
    "\n",
    "print(\"Data split complete!\")"
   ]
  },
  {
   "cell_type": "code",
   "execution_count": null,
   "id": "b0ea9728",
   "metadata": {
    "papermill": {
     "duration": null,
     "end_time": null,
     "exception": null,
     "start_time": null,
     "status": "pending"
    },
    "tags": []
   },
   "outputs": [],
   "source": [
    "train_data=get_classes(train_split, class_names, 'Train')\n",
    "test_data=get_classes(test_split, class_names, 'Test')\n",
    "valid_data=get_classes(valid_split, class_names, 'Valid')"
   ]
  },
  {
   "cell_type": "code",
   "execution_count": null,
   "id": "8a2cd707",
   "metadata": {
    "papermill": {
     "duration": null,
     "end_time": null,
     "exception": null,
     "start_time": null,
     "status": "pending"
    },
    "tags": []
   },
   "outputs": [],
   "source": [
    "plot_classes(train_data, train_split, class_names, 'Train data')"
   ]
  },
  {
   "cell_type": "code",
   "execution_count": null,
   "id": "d3b116c9",
   "metadata": {
    "papermill": {
     "duration": null,
     "end_time": null,
     "exception": null,
     "start_time": null,
     "status": "pending"
    },
    "tags": []
   },
   "outputs": [],
   "source": [
    "def get_plot_loss_acc(model, model_name):\n",
    "    fig=plt.figure()\n",
    "    plt.subplot(2, 1, 1)\n",
    "    plt.plot(model.history.history[\"loss\"])\n",
    "    plt.plot(model.history.history[\"val_loss\"])\n",
    "    plt.title(f\"{model_name} \\n\\n model loss\")\n",
    "    plt.ylabel(\"loss\")\n",
    "    plt.xlabel(\"epoch\")\n",
    "    plt.legend([\"train\", \"valid\"], loc=\"upper right\")\n",
    "\n",
    "    plt.subplot(2, 1, 2)\n",
    "    plt.plot(model.history.history[\"accuracy\"])\n",
    "    plt.plot(model.history.history[\"val_accuracy\"])\n",
    "    plt.title(\"model accuracy\")\n",
    "    plt.ylabel(\"accuracy\")\n",
    "    plt.xlabel(\"epoch\")\n",
    "    plt.legend([\"train\", \"valid\"], loc=\"lower right\")\n",
    "\n",
    "    plt.tight_layout()\n",
    "\n",
    "def compute_confusion_matrix(ytrue, ypred, class_names, model_name):\n",
    "    cm=confusion_matrix(\n",
    "        y_true=ytrue.labels,\n",
    "        y_pred=np.argmax(ypred, axis=1),\n",
    "    )\n",
    "    cmn=cm.astype(\"float\")/cm.sum(axis=1)[:, np.newaxis]\n",
    "    plt.subplots(figsize=(6, 5))\n",
    "    sns.heatmap(\n",
    "        cmn,\n",
    "        annot=True,\n",
    "        fmt=\".2f\",\n",
    "        cmap=\"Purples\",\n",
    "        xticklabels=class_names,\n",
    "        yticklabels=class_names,\n",
    "    )\n",
    "    plt.title(f\"Confusion Matrix - {model_name}\")\n",
    "    plt.ylabel(\"Actual\")\n",
    "    plt.xlabel(\"Predicted\")\n",
    "    plt.show(block=False)\n",
    "\n",
    "def get_evaluate(data, name, model):\n",
    "    score_model=model.evaluate(data, verbose=1)\n",
    "    print(f\"{name} loss: {score_model[0]: .2f}\")\n",
    "    print(f\"{name} accuracy: {score_model[1]: .2f}\")\n",
    "\n",
    "def get_predict(data, model):\n",
    "    predict_model=model.predict(data)\n",
    "    return predict_model\n",
    "\n",
    "def get_metrics(y_test, y_pred, model_name):\n",
    "    acc=accuracy_score(y_test, y_pred)\n",
    "    bal_acc=balanced_accuracy_score(y_test, y_pred)\n",
    "\n",
    "    print(f\"Accuracy Score - {model_name}: {acc: .2f}\")\n",
    "    print(f\"Balanced Accuracy Score - {model_name}: {bal_acc: .2f}\")\n",
    "    print(\"\\n\")\n",
    "\n",
    "    print(classification_report(y_test, y_pred))"
   ]
  },
  {
   "cell_type": "code",
   "execution_count": null,
   "id": "beb1d82a",
   "metadata": {
    "papermill": {
     "duration": null,
     "end_time": null,
     "exception": null,
     "start_time": null,
     "status": "pending"
    },
    "tags": []
   },
   "outputs": [],
   "source": [
    "model_name=\"ResNet\"\n",
    "\n",
    "target_size=(224, 224)\n",
    "epochs=50\n",
    "batch_size=256\n",
    "img_shape=(224, 224, 3)\n",
    "\n",
    "save_model_ft=os.path.join('models', f'model_{model_name}_ft.hdf5')"
   ]
  },
  {
   "cell_type": "code",
   "execution_count": null,
   "id": "49a77477",
   "metadata": {
    "papermill": {
     "duration": null,
     "end_time": null,
     "exception": null,
     "start_time": null,
     "status": "pending"
    },
    "tags": []
   },
   "outputs": [],
   "source": [
    "def apply_clahe(image):\n",
    "    # Convert the image to grayscale (8-bit unsigned, single-channel)\n",
    "    gray_image = cv2.cvtColor(image, cv2.COLOR_RGB2GRAY)\n",
    "\n",
    "    # Ensure the image is in CV_8UC1 format\n",
    "    if gray_image.dtype != np.uint8:\n",
    "        gray_image = np.uint8(gray_image)\n",
    "\n",
    "    # Apply CLAHE to the grayscale image\n",
    "    clahe = cv2.createCLAHE(clipLimit=40.0, tileGridSize=(8, 8))\n",
    "    enhanced_image = clahe.apply(gray_image)\n",
    "\n",
    "    # Convert the enhanced grayscale image back to RGB color space\n",
    "    enhanced_rgb = cv2.cvtColor(enhanced_image, cv2.COLOR_GRAY2RGB)\n",
    "\n",
    "    return enhanced_rgb"
   ]
  },
  {
   "cell_type": "code",
   "execution_count": null,
   "id": "417b7302",
   "metadata": {
    "papermill": {
     "duration": null,
     "end_time": null,
     "exception": null,
     "start_time": null,
     "status": "pending"
    },
    "tags": []
   },
   "outputs": [],
   "source": [
    "aug_datagen = tf.keras.preprocessing.image.ImageDataGenerator(\n",
    "    preprocessing_function=lambda x: apply_clahe(x),\n",
    "    horizontal_flip=True,\n",
    "    brightness_range=[0.3, 0.8],\n",
    "    width_shift_range=[-50, 0, 50, 30, -30],\n",
    "    zoom_range=0.1,\n",
    "    fill_mode=\"nearest\",\n",
    ")\n",
    "\n",
    "noaug_datagen = tf.keras.preprocessing.image.ImageDataGenerator(\n",
    "    preprocessing_function=lambda x: apply_clahe(x),\n",
    ")"
   ]
  },
  {
   "cell_type": "code",
   "execution_count": null,
   "id": "3940fe86",
   "metadata": {
    "papermill": {
     "duration": null,
     "end_time": null,
     "exception": null,
     "start_time": null,
     "status": "pending"
    },
    "tags": []
   },
   "outputs": [],
   "source": [
    "imagegen=aug_datagen.flow_from_directory(train_split, batch_size=1)\n",
    "fig, rows=plt.subplots(nrows=1, ncols=4, figsize=(18, 18))\n",
    "for row in rows:\n",
    "    row.imshow(next(imagegen)[0][0].astype('uint8'))\n",
    "plt.show()"
   ]
  },
  {
   "cell_type": "code",
   "execution_count": null,
   "id": "9fe678f1",
   "metadata": {
    "papermill": {
     "duration": null,
     "end_time": null,
     "exception": null,
     "start_time": null,
     "status": "pending"
    },
    "tags": []
   },
   "outputs": [],
   "source": [
    "train_generator = aug_datagen.flow_from_directory(\n",
    "    train_split, class_mode=\"categorical\", target_size=target_size, shuffle=True\n",
    ")\n",
    "\n",
    "valid_generator = noaug_datagen.flow_from_directory(\n",
    "    valid_split,\n",
    "    class_mode=\"categorical\",\n",
    "    target_size=target_size,\n",
    "    shuffle=False,\n",
    ")"
   ]
  },
  {
   "cell_type": "code",
   "execution_count": null,
   "id": "5865f71c",
   "metadata": {
    "papermill": {
     "duration": null,
     "end_time": null,
     "exception": null,
     "start_time": null,
     "status": "pending"
    },
    "tags": []
   },
   "outputs": [],
   "source": [
    "y_train = train_generator.labels\n",
    "y_val = valid_generator.labels"
   ]
  },
  {
   "cell_type": "code",
   "execution_count": null,
   "id": "7bfe581b",
   "metadata": {
    "papermill": {
     "duration": null,
     "end_time": null,
     "exception": null,
     "start_time": null,
     "status": "pending"
    },
    "tags": []
   },
   "outputs": [],
   "source": [
    "unique, counts = np.unique(y_train, return_counts=True)\n",
    "print(\"Train: \", dict(zip(unique, counts)))\n",
    "\n",
    "class_weights = compute_class_weight(\n",
    "    class_weight=\"balanced\", classes=np.unique(y_train), y=y_train\n",
    ")\n",
    "train_class_weights = dict(enumerate(class_weights))\n",
    "print(train_class_weights)"
   ]
  },
  {
   "cell_type": "code",
   "execution_count": null,
   "id": "9a80e0df",
   "metadata": {
    "papermill": {
     "duration": null,
     "end_time": null,
     "exception": null,
     "start_time": null,
     "status": "pending"
    },
    "tags": []
   },
   "outputs": [],
   "source": [
    "classes = np.unique(y_train)\n",
    "\n",
    "# Callbacks\n",
    "early = tf.keras.callbacks.EarlyStopping(\n",
    "            monitor='val_loss', min_delta=0.01, patience=8,\n",
    "            restore_best_weights=True\n",
    "        )\n",
    "plateau = tf.keras.callbacks.ReduceLROnPlateau(\n",
    "                monitor='loss', factor=0.1, min_delta=0.01,\n",
    "                min_lr=1e-10, patience=4, mode='auto'\n",
    "            )"
   ]
  },
  {
   "cell_type": "code",
   "execution_count": null,
   "id": "59962715",
   "metadata": {
    "papermill": {
     "duration": null,
     "end_time": null,
     "exception": null,
     "start_time": null,
     "status": "pending"
    },
    "tags": []
   },
   "outputs": [],
   "source": [
    "model = tf.keras.applications.ResNet50(\n",
    "    input_shape=(img_shape),\n",
    "    include_top=False,\n",
    "    weights=\"imagenet\",\n",
    ")"
   ]
  },
  {
   "cell_type": "code",
   "execution_count": null,
   "id": "a275141b",
   "metadata": {
    "papermill": {
     "duration": null,
     "end_time": null,
     "exception": null,
     "start_time": null,
     "status": "pending"
    },
    "tags": []
   },
   "outputs": [],
   "source": [
    "m = model.output"
   ]
  },
  {
   "cell_type": "code",
   "execution_count": null,
   "id": "d12b0399",
   "metadata": {
    "papermill": {
     "duration": null,
     "end_time": null,
     "exception": null,
     "start_time": null,
     "status": "pending"
    },
    "tags": []
   },
   "outputs": [],
   "source": [
    "m = tf.keras.layers.GlobalAveragePooling2D()(m)\n",
    "m = tf.keras.layers.Dropout(0.2)(m)"
   ]
  },
  {
   "cell_type": "code",
   "execution_count": null,
   "id": "4cd266ab",
   "metadata": {
    "papermill": {
     "duration": null,
     "end_time": null,
     "exception": null,
     "start_time": null,
     "status": "pending"
    },
    "tags": []
   },
   "outputs": [],
   "source": [
    "predictions = tf.keras.layers.Dense(2, activation='softmax')(m)"
   ]
  },
  {
   "cell_type": "code",
   "execution_count": null,
   "id": "22eac142",
   "metadata": {
    "papermill": {
     "duration": null,
     "end_time": null,
     "exception": null,
     "start_time": null,
     "status": "pending"
    },
    "tags": []
   },
   "outputs": [],
   "source": [
    "model_ft = tf.keras.models.Model(inputs=model.input, outputs=predictions)\n",
    "model_ft.summary()"
   ]
  },
  {
   "cell_type": "code",
   "execution_count": null,
   "id": "5609dd41",
   "metadata": {
    "papermill": {
     "duration": null,
     "end_time": null,
     "exception": null,
     "start_time": null,
     "status": "pending"
    },
    "tags": []
   },
   "outputs": [],
   "source": [
    "model_ft.compile(\n",
    "    optimizer=\"adam\", loss=\"categorical_crossentropy\", metrics=[\"accuracy\"]\n",
    ")"
   ]
  },
  {
   "cell_type": "code",
   "execution_count": null,
   "id": "95e209d8",
   "metadata": {
    "papermill": {
     "duration": null,
     "end_time": null,
     "exception": null,
     "start_time": null,
     "status": "pending"
    },
    "tags": []
   },
   "outputs": [],
   "source": [
    "start_ft = timeit.default_timer()\n",
    "\n",
    "history = model_ft.fit(\n",
    "    train_generator,\n",
    "    epochs=epochs,\n",
    "    batch_size=batch_size,\n",
    "    validation_data=valid_generator,\n",
    "    class_weight=train_class_weights,\n",
    "    verbose=1,\n",
    "    callbacks=[early, plateau],\n",
    ")\n",
    "\n",
    "stop_ft = timeit.default_timer()"
   ]
  },
  {
   "cell_type": "code",
   "execution_count": null,
   "id": "b09aad07",
   "metadata": {
    "papermill": {
     "duration": null,
     "end_time": null,
     "exception": null,
     "start_time": null,
     "status": "pending"
    },
    "tags": []
   },
   "outputs": [],
   "source": [
    "model.save('/kaggle/working/ResNet.h5')"
   ]
  },
  {
   "cell_type": "code",
   "execution_count": null,
   "id": "fd03c0e8",
   "metadata": {
    "papermill": {
     "duration": null,
     "end_time": null,
     "exception": null,
     "start_time": null,
     "status": "pending"
    },
    "tags": []
   },
   "outputs": [],
   "source": [
    "get_plot_loss_acc(model_ft, f\"{model_name} Fine Tuning\")"
   ]
  },
  {
   "cell_type": "code",
   "execution_count": null,
   "id": "d759d9aa",
   "metadata": {
    "papermill": {
     "duration": null,
     "end_time": null,
     "exception": null,
     "start_time": null,
     "status": "pending"
    },
    "tags": []
   },
   "outputs": [],
   "source": [
    "get_evaluate(train_generator, \"Train\", model_ft)"
   ]
  },
  {
   "cell_type": "code",
   "execution_count": null,
   "id": "5765736c",
   "metadata": {
    "papermill": {
     "duration": null,
     "end_time": null,
     "exception": null,
     "start_time": null,
     "status": "pending"
    },
    "tags": []
   },
   "outputs": [],
   "source": [
    "get_evaluate(valid_generator, \"Valid\", model_ft)"
   ]
  },
  {
   "cell_type": "code",
   "execution_count": null,
   "id": "8b2cc60d",
   "metadata": {
    "papermill": {
     "duration": null,
     "end_time": null,
     "exception": null,
     "start_time": null,
     "status": "pending"
    },
    "tags": []
   },
   "outputs": [],
   "source": [
    "predict_model_ft = get_predict(valid_generator, model_ft)\n",
    "\n",
    "get_metrics(\n",
    "    valid_generator.labels,\n",
    "    y_pred=np.argmax(predict_model_ft, axis=1),\n",
    "    model_name=model_name,\n",
    ")"
   ]
  },
  {
   "cell_type": "code",
   "execution_count": null,
   "id": "0d232db4",
   "metadata": {
    "papermill": {
     "duration": null,
     "end_time": null,
     "exception": null,
     "start_time": null,
     "status": "pending"
    },
    "tags": []
   },
   "outputs": [],
   "source": [
    "compute_confusion_matrix(\n",
    "    valid_generator, predict_model_ft, class_names, f\"{model_name} Fine Tuning\"\n",
    ")"
   ]
  },
  {
   "cell_type": "code",
   "execution_count": null,
   "id": "a6455997",
   "metadata": {
    "papermill": {
     "duration": null,
     "end_time": null,
     "exception": null,
     "start_time": null,
     "status": "pending"
    },
    "tags": []
   },
   "outputs": [],
   "source": [
    "test_generator = noaug_datagen.flow_from_directory(\n",
    "    test_split,\n",
    "    batch_size=batch_size,\n",
    "    class_mode=\"categorical\",\n",
    "    target_size=target_size,\n",
    "    shuffle=False,\n",
    ")"
   ]
  },
  {
   "cell_type": "code",
   "execution_count": null,
   "id": "4a6b7dce",
   "metadata": {
    "papermill": {
     "duration": null,
     "end_time": null,
     "exception": null,
     "start_time": null,
     "status": "pending"
    },
    "tags": []
   },
   "outputs": [],
   "source": [
    "Resnet = model_ft"
   ]
  },
  {
   "cell_type": "code",
   "execution_count": null,
   "id": "e9c7baf2",
   "metadata": {
    "papermill": {
     "duration": null,
     "end_time": null,
     "exception": null,
     "start_time": null,
     "status": "pending"
    },
    "tags": []
   },
   "outputs": [],
   "source": [
    "predictions_resnet = Resnet.predict(test_generator)\n",
    "score_resnet = Resnet.evaluate(test_generator, verbose=1)\n",
    "print('Test loss:', score_resnet[0])\n",
    "print('Test acc:', score_resnet[1])"
   ]
  },
  {
   "cell_type": "code",
   "execution_count": null,
   "id": "84408e55",
   "metadata": {
    "papermill": {
     "duration": null,
     "end_time": null,
     "exception": null,
     "start_time": null,
     "status": "pending"
    },
    "tags": []
   },
   "outputs": [],
   "source": [
    "compute_confusion_matrix(\n",
    "    test_generator,\n",
    "    predictions_resnet,\n",
    "    class_names,\n",
    "    f\"{model_name} fine tuning\",\n",
    ")"
   ]
  },
  {
   "cell_type": "code",
   "execution_count": null,
   "id": "e98f2af2",
   "metadata": {
    "papermill": {
     "duration": null,
     "end_time": null,
     "exception": null,
     "start_time": null,
     "status": "pending"
    },
    "tags": []
   },
   "outputs": [],
   "source": [
    "def count_confusion_matrix(ytrue, ypred, class_names, model_name):\n",
    "    cm=confusion_matrix(\n",
    "        y_true=ytrue.labels,\n",
    "        y_pred=np.argmax(ypred, axis=1),\n",
    "    )\n",
    "    cmn=cm.astype(\"int\")\n",
    "    plt.subplots(figsize=(6, 5))\n",
    "    sns.heatmap(\n",
    "        cmn,\n",
    "        annot=True,\n",
    "        fmt=\".0f\",\n",
    "        cmap=\"Purples\",\n",
    "        xticklabels=class_names,\n",
    "        yticklabels=class_names,\n",
    "    )\n",
    "    plt.title(f\"Confusion Matrix - {model_name}\")\n",
    "    plt.ylabel(\"Actual\")\n",
    "    plt.xlabel(\"Predicted\")\n",
    "    plt.show(block=False)\n",
    "    \n",
    "count_confusion_matrix(\n",
    "    test_generator,\n",
    "    predictions_resnet,\n",
    "    class_names,\n",
    "    f\"{model_name} fine tuning\",\n",
    ")"
   ]
  },
  {
   "cell_type": "code",
   "execution_count": null,
   "id": "6a77f116",
   "metadata": {
    "papermill": {
     "duration": null,
     "end_time": null,
     "exception": null,
     "start_time": null,
     "status": "pending"
    },
    "tags": []
   },
   "outputs": [],
   "source": [
    "results = get_predict(test_generator, Resnet)\n",
    "\n",
    "get_metrics(\n",
    "    test_generator.labels,\n",
    "    y_pred=np.argmax(results, axis=1),\n",
    "    model_name=model_name,\n",
    ")"
   ]
  },
  {
   "cell_type": "code",
   "execution_count": null,
   "id": "a1928df5",
   "metadata": {
    "papermill": {
     "duration": null,
     "end_time": null,
     "exception": null,
     "start_time": null,
     "status": "pending"
    },
    "tags": []
   },
   "outputs": [],
   "source": [
    "import numpy as np\n",
    "import matplotlib.pyplot as plt\n",
    "from sklearn.metrics import roc_curve, auc\n",
    "\n",
    "# Get true labels and predicted probabilities\n",
    "y_true = test_generator.labels  # True labels from validation generator\n",
    "y_pred_probs = model_ft.predict(test_generator)  # Get predicted probabilities\n",
    "\n",
    "# Since it's binary classification, we only need the probabilities for class 1\n",
    "y_pred_probs = y_pred_probs[:, 1]\n",
    "\n",
    "# Compute ROC curve and ROC area\n",
    "fpr, tpr, thresholds = roc_curve(y_true, y_pred_probs)\n",
    "roc_auc = auc(fpr, tpr)\n",
    "\n",
    "# Plot ROC curve\n",
    "plt.figure()\n",
    "plt.plot(fpr, tpr, color='darkorange', lw=2, label=f'ROC curve (area = {roc_auc:.2f})')\n",
    "plt.plot([0, 1], [0, 1], color='navy', lw=2, linestyle='--')  # Diagonal line\n",
    "plt.xlim([0.0, 1.0])\n",
    "plt.ylim([0.0, 1.0])\n",
    "plt.xlabel('False Positive Rate')\n",
    "plt.ylabel('True Positive Rate')\n",
    "plt.title('Receiver Operating Characteristic (ROC)')\n",
    "plt.legend(loc='lower right')\n",
    "plt.show()"
   ]
  },
  {
   "cell_type": "code",
   "execution_count": null,
   "id": "2ea15f20",
   "metadata": {
    "papermill": {
     "duration": null,
     "end_time": null,
     "exception": null,
     "start_time": null,
     "status": "pending"
    },
    "tags": []
   },
   "outputs": [],
   "source": []
  }
 ],
 "metadata": {
  "kaggle": {
   "accelerator": "nvidiaTeslaT4",
   "dataSources": [],
   "isGpuEnabled": true,
   "isInternetEnabled": true,
   "language": "python",
   "sourceType": "notebook"
  },
  "kernelspec": {
   "display_name": "Python 3",
   "language": "python",
   "name": "python3"
  },
  "language_info": {
   "codemirror_mode": {
    "name": "ipython",
    "version": 3
   },
   "file_extension": ".py",
   "mimetype": "text/x-python",
   "name": "python",
   "nbconvert_exporter": "python",
   "pygments_lexer": "ipython3",
   "version": "3.10.14"
  },
  "papermill": {
   "default_parameters": {},
   "duration": 18.415701,
   "end_time": "2024-10-12T10:52:05.140932",
   "environment_variables": {},
   "exception": true,
   "input_path": "__notebook__.ipynb",
   "output_path": "__notebook__.ipynb",
   "parameters": {},
   "start_time": "2024-10-12T10:51:46.725231",
   "version": "2.6.0"
  }
 },
 "nbformat": 4,
 "nbformat_minor": 5
}
